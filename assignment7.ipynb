{
 "cells": [
  {
   "cell_type": "markdown",
   "id": "d305e530-2946-4f1d-9f08-2fea1e12037d",
   "metadata": {},
   "source": [
    "1. Create two int type variables, apply addition, subtraction, division and multiplications and store the results in variables. \n",
    "   Then print the data in the following format by calling the variables:\n",
    "    \n",
    "    First variable is __ & second variable is __.\n",
    "    Addition: __ + __ = __\n",
    "    Subtraction: __ - __ = __\n",
    "    Multiplication: __ * __ = __\n",
    "    Division: __ / __ = __\n"
   ]
  },
  {
   "cell_type": "code",
   "execution_count": 4,
   "id": "6e3288be-69e1-4d22-b5dc-ff7ed0eadf91",
   "metadata": {},
   "outputs": [
    {
     "name": "stdin",
     "output_type": "stream",
     "text": [
      "Enter first number:  30\n",
      "Enter second number:  15\n"
     ]
    },
    {
     "name": "stdout",
     "output_type": "stream",
     "text": [
      "\n",
      "Addition: 30 + 15 = 45\n",
      "Substraction: 30 - 15 = 15\n",
      "Multiplication: 30 * 15 = 450\n",
      "Division: 30 / 15 = 2.0\n"
     ]
    }
   ],
   "source": [
    "x = int(input(\"Enter first number: \"))\n",
    "\n",
    "y = int(input(\"Enter second number: \"))\n",
    "\n",
    "a = x + y\n",
    "s = x - y\n",
    "m = x * y\n",
    "d = x / y\n",
    "\n",
    "print()\n",
    "\n",
    "print(\"Addition: \" + str(x) + \" + \" + str(y) + \" = \" + str(a))\n",
    "print(\"Substraction: \" + str(x) + \" - \" + str(y) + \" = \" + str(s))\n",
    "print(\"Multiplication: \" + str(x)+ \" x \" + str(y) + \" = \" + str(m))\n",
    "print(\"Division: \" + str(x)+ \" / \" + str(y) + \" = \" + str(d))"
   ]
  },
  {
   "cell_type": "code",
   "execution_count": null,
   "id": "02aa8353-275a-48a9-806a-8c0efd21fd13",
   "metadata": {},
   "outputs": [],
   "source": [
    "2. What is the difference between the following operators:\n",
    "    (i) ‘/’ & ‘//’\n",
    "    (ii) ‘**’ & ‘^’\n",
    "\n",
    "-> '/' method of division is considered as the ‘classic division’. The output of this operator is always a quotient with a float datatype. The output remains float even if the input numbers are integer values.\n",
    "  \n",
    "   '//' method of division is considered the ‘true division’. The ‘//’ double slash carries out integer division which is also known as floor division. The output of this operator will be the quotient rounded off to the closest whole number. \n",
    "   \n",
    "   '**' is the exponential operator and '^' is the XOR operator. XOR is the bitwise XOR of the two numbers. \n",
    "   \n",
    "   For example:\n",
    "   \n",
    "   5^3 is 5 XOR 3\n",
    "   \n",
    "   101 = 5\n",
    "   011 = 3\n",
    "   \n",
    "   0 ^ 0 = 0\n",
    "   1 ^ 0 = 1\n",
    "   0 ^ 1 = 1\n",
    "   1 ^ 1 = 0\n",
    "   \n",
    "   0110 = 6, so 5^3 = 6\n",
    "   \n",
    "3. List the logical operators.\n",
    "\n",
    "-> The logical operators are 'and', 'or', 'not'\n",
    "\n",
    "4. Explain right shift operator and left shift operator with examples.\n",
    "\n",
    "-> Python right shift operator shifts the left side operand bits towards the right side for the given number of times. In simple terms, the right side bits are removed.\n",
    "    A = 10 = 1010 binary\n",
    "    A >> 2 = 1010 >> 2\n",
    "           =10\n",
    "           =2(decimal)\n",
    "\n",
    "\n",
    "   Python bitwise left shift operator shifts the left operand bits towards the left side for the given number of times in the right operand. In simple terms, the binary number is appended with 0s at the end.\n",
    "    A = 10 = 1010 binary\n",
    "    A << 2 = 1010 << 2\n",
    "           = 101000\n",
    "           = 40\n",
    "            \n",
    "5. Create a list containing int type data of length 15. Then write a code to check if 10 is present in the list or not.\n"
   ]
  },
  {
   "cell_type": "code",
   "execution_count": 7,
   "id": "212b1bb8-d706-498e-a44a-cc79d7ffe320",
   "metadata": {},
   "outputs": [
    {
     "name": "stdout",
     "output_type": "stream",
     "text": [
      "Checking if 10 exists in the list\n",
      "Element exist\n"
     ]
    }
   ],
   "source": [
    "l = [1, 5, 10, 15, 20, 30, 50, 25, 70, 35, 60, 40, 55, 65, 90]\n",
    "\n",
    "print(\"Checking if 10 exists in the list\")\n",
    "\n",
    "if (10 in l):\n",
    "    print(\"Element exist\")"
   ]
  },
  {
   "cell_type": "code",
   "execution_count": null,
   "id": "f298541b-0877-434d-88ca-51236ec1b91c",
   "metadata": {},
   "outputs": [],
   "source": []
  }
 ],
 "metadata": {
  "kernelspec": {
   "display_name": "Python 3 (ipykernel)",
   "language": "python",
   "name": "python3"
  },
  "language_info": {
   "codemirror_mode": {
    "name": "ipython",
    "version": 3
   },
   "file_extension": ".py",
   "mimetype": "text/x-python",
   "name": "python",
   "nbconvert_exporter": "python",
   "pygments_lexer": "ipython3",
   "version": "3.10.6"
  }
 },
 "nbformat": 4,
 "nbformat_minor": 5
}
