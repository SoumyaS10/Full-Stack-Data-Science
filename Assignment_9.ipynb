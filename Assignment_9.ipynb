{
 "cells": [
  {
   "cell_type": "markdown",
   "id": "f359019d-3fcd-46a0-8536-969137ef657e",
   "metadata": {},
   "source": [
    "# 1. What is a lambda function in Python, and how does it differ from a regular function?"
   ]
  },
  {
   "cell_type": "markdown",
   "id": "543a4173-f52b-4887-8e78-1e256f626080",
   "metadata": {},
   "source": [
    "-> A lambda function is a small anonymous function. It can take amy number of arguments, but can have only one expression."
   ]
  },
  {
   "cell_type": "markdown",
   "id": "77038856-0920-4a44-b723-88302fb2c1c1",
   "metadata": {},
   "source": [
    "A lambda function does not need a function name unlike regular functions. The parameters of a lambda function does not need to be surrounded with parentheses."
   ]
  },
  {
   "cell_type": "markdown",
   "id": "78f6afbf-f626-4a73-aaf9-2189b2f3d34d",
   "metadata": {},
   "source": [
    "# 2. Can a lambda function in Python have multiple arguments? If yes, how can you define and use them?"
   ]
  },
  {
   "cell_type": "markdown",
   "id": "8bfbe1c7-5e5e-4d80-b5e3-4a1c8cfc50a3",
   "metadata": {},
   "source": [
    "-> A lambda function can have multiple arguments."
   ]
  },
  {
   "cell_type": "code",
   "execution_count": 1,
   "id": "bf6624e6-60c8-4cde-93cf-dd8c508b27b1",
   "metadata": {},
   "outputs": [
    {
     "name": "stdout",
     "output_type": "stream",
     "text": [
      "30\n"
     ]
    }
   ],
   "source": [
    "#For example, below code is used to find the sum of 3 numbers using lambda function\n",
    "\n",
    "Sum = lambda x, y, z: x + y + z\n",
    "\n",
    "print(Sum(5, 10, 15))"
   ]
  },
  {
   "cell_type": "markdown",
   "id": "5871b539-ca26-47cd-907d-cd2f65ee313f",
   "metadata": {},
   "source": [
    "# 3. How are lambda functions typically used in Python? Provide an example use case."
   ]
  },
  {
   "cell_type": "markdown",
   "id": "ae537b7f-52f3-4827-a5e8-017d439f7c69",
   "metadata": {},
   "source": [
    "-> Lambda functions are generally used to create simple expressions."
   ]
  },
  {
   "cell_type": "code",
   "execution_count": 3,
   "id": "7ffeb046-659f-47cf-8aaf-07df8769db68",
   "metadata": {},
   "outputs": [
    {
     "data": {
      "text/plain": [
       "[2, 4, 6, 8, 10]"
      ]
     },
     "execution_count": 3,
     "metadata": {},
     "output_type": "execute_result"
    }
   ],
   "source": [
    "#For example, below code is used to filter even numbers from a given list using lambda function\n",
    "\n",
    "list1 = [1, 2, 3, 4, 5, 6, 7, 8, 9, 10]\n",
    "\n",
    "list(filter(lambda x: x % 2 == 0, list1))\n"
   ]
  },
  {
   "cell_type": "markdown",
   "id": "4d7e86e7-a167-4147-8b86-c591a2fa0693",
   "metadata": {},
   "source": [
    "# 4. What are the advantages and limitations of lambda functions compared to regular functions in Python?"
   ]
  },
  {
   "cell_type": "markdown",
   "id": "a2c1a839-fc23-480d-b3ee-72530f8ad690",
   "metadata": {},
   "source": [
    "-> Advantages of lambda functions are:-"
   ]
  },
  {
   "cell_type": "markdown",
   "id": "a0492dd7-a361-4d77-bf80-1a1f5dd6f634",
   "metadata": {},
   "source": [
    "a. It requires just a single liner for simple equations."
   ]
  },
  {
   "cell_type": "markdown",
   "id": "92b2c4da-d34f-4711-a406-78e3f85f89f1",
   "metadata": {},
   "source": [
    "b. Automatically returns the result."
   ]
  },
  {
   "cell_type": "markdown",
   "id": "557f1910-8c61-47ac-81ca-829e9607ecbe",
   "metadata": {},
   "source": [
    "c. It does not requires a function name and no additional variables are needed."
   ]
  },
  {
   "cell_type": "markdown",
   "id": "6c5a56a4-c454-432f-b630-52e9ae9e779f",
   "metadata": {},
   "source": [
    "Disadvantages of lambda functions are:-"
   ]
  },
  {
   "cell_type": "markdown",
   "id": "214e8efb-9b8f-4533-83da-9df0d6322eca",
   "metadata": {},
   "source": [
    "a. Lambda expression contain just one statement so it has readability issues."
   ]
  },
  {
   "cell_type": "markdown",
   "id": "800a773c-1c17-4542-bcf4-2ff02cefa429",
   "metadata": {},
   "source": [
    "b. It is not recommended for complex equations."
   ]
  },
  {
   "cell_type": "markdown",
   "id": "67d187b1-440b-479a-b209-31137e459dde",
   "metadata": {},
   "source": [
    "# 5. Are lambda functions in Python able to access variables defined outside of their own scope? Explain with an example."
   ]
  },
  {
   "cell_type": "markdown",
   "id": "36d11fae-9e09-45b7-b7f1-3e2aa4f89745",
   "metadata": {},
   "source": [
    "-> Lambda functions have their own namespace and cannot access variables other than those in their parameter list and global namespace."
   ]
  },
  {
   "cell_type": "code",
   "execution_count": 10,
   "id": "a1bc8d4d-98f6-4c11-9233-3bbb0ce65a77",
   "metadata": {},
   "outputs": [
    {
     "name": "stdout",
     "output_type": "stream",
     "text": [
      "[2, 3, 5, 7, 11, 13, 17, 19]\n"
     ]
    }
   ],
   "source": [
    "#For example, below code is used to find the prime numbers using lambda function\n",
    "\n",
    "n = range(2, 20)\n",
    "\n",
    "for i in range(2, 10):\n",
    "    n = list(filter(lambda x: x == i or x % i, n)) # Here lambda is accessing the globally declared variable n\n",
    "    \n",
    "print(n)"
   ]
  },
  {
   "cell_type": "markdown",
   "id": "6629a545-5086-4a84-8879-e1a97233a86c",
   "metadata": {},
   "source": [
    "# 6. Write a lambda function to calculate the square of a given number."
   ]
  },
  {
   "cell_type": "code",
   "execution_count": 17,
   "id": "f6429eb6-763a-4646-b33b-b57719bcd45b",
   "metadata": {},
   "outputs": [
    {
     "name": "stdin",
     "output_type": "stream",
     "text": [
      "Enter a number:  5\n"
     ]
    },
    {
     "name": "stdout",
     "output_type": "stream",
     "text": [
      "Square of 5 is 25\n"
     ]
    }
   ],
   "source": [
    "f = lambda x: x * x\n",
    "\n",
    "num = int(input(\"Enter a number: \"))\n",
    "\n",
    "print(\"Square of \" + str(num) + \" is\", f(num))"
   ]
  },
  {
   "cell_type": "markdown",
   "id": "27b55c97-dd6e-4009-abdb-11927dc0de6b",
   "metadata": {},
   "source": [
    "# 7. Create a lambda function to find the maximum value in a list of integers."
   ]
  },
  {
   "cell_type": "code",
   "execution_count": 40,
   "id": "238379c9-1cbb-4083-baf3-cce1f6243ea3",
   "metadata": {},
   "outputs": [
    {
     "name": "stdout",
     "output_type": "stream",
     "text": [
      "Max number is:  50\n"
     ]
    }
   ],
   "source": [
    "list1 = [ 20, 5, 15, 35, 10, 25, 45, 50, 30, 40]\n",
    "\n",
    "Max = (lambda x: sorted (x)[-1])(list1) # sorting the list first then passing the last element of the sorted list\n",
    "\n",
    "print(\"Max number is: \", Max)"
   ]
  },
  {
   "cell_type": "markdown",
   "id": "dc689c19-8128-4d79-9a57-e6694c689efd",
   "metadata": {},
   "source": [
    "# 8. Implement a lambda function to filter out all the even numbers from a list of integers."
   ]
  },
  {
   "cell_type": "code",
   "execution_count": 5,
   "id": "c6c4726e-547f-41d0-9879-07c8ec75ac0c",
   "metadata": {},
   "outputs": [
    {
     "data": {
      "text/plain": [
       "[4, 10, 2, 8, 20]"
      ]
     },
     "execution_count": 5,
     "metadata": {},
     "output_type": "execute_result"
    }
   ],
   "source": [
    "list1 = [11, 4, 10, 23, 2, 25, 49, 8, 20]\n",
    "\n",
    "list(filter(lambda x: x % 2 == 0, list1))"
   ]
  },
  {
   "cell_type": "markdown",
   "id": "4fa3b66b-7a55-429f-923d-ebde9ae98327",
   "metadata": {},
   "source": [
    "# 9. Write a lambda function to sort a list of strings in ascending order based on the length of each string."
   ]
  },
  {
   "cell_type": "code",
   "execution_count": 6,
   "id": "7c535a89-b75f-4d44-b189-407d20787e9d",
   "metadata": {},
   "outputs": [
    {
     "name": "stdout",
     "output_type": "stream",
     "text": [
      "['Kiwi', 'Apple', 'Orange', 'Pineapple', 'Watermelon']\n"
     ]
    }
   ],
   "source": [
    "list1 = [\"Apple\", \"Orange\", \"Watermelon\", \"Pineapple\", \"Kiwi\"]\n",
    "\n",
    "sorted_list1 = sorted(list1, key = lambda x: len(x))\n",
    "\n",
    "print(sorted_list1)"
   ]
  },
  {
   "cell_type": "markdown",
   "id": "3f28825b-bfdb-45ce-aad3-d82838361627",
   "metadata": {},
   "source": [
    "# 10. Create a lambda function that takes two lists as input and returns a new list containing the common elements between the two lists."
   ]
  },
  {
   "cell_type": "code",
   "execution_count": 4,
   "id": "5ad5bc84-6cb2-479c-81a1-e53b4b82ec7e",
   "metadata": {},
   "outputs": [
    {
     "name": "stdin",
     "output_type": "stream",
     "text": [
      "Enter number of element for 1st list:  3\n",
      " 1\n",
      " 2\n",
      " 3\n"
     ]
    },
    {
     "name": "stdout",
     "output_type": "stream",
     "text": [
      "List 1 :  [1, 2, 3]\n"
     ]
    },
    {
     "name": "stdin",
     "output_type": "stream",
     "text": [
      "Enter number of element for 2nd list:  3\n",
      " 2\n",
      " 3\n",
      " 4\n"
     ]
    },
    {
     "name": "stdout",
     "output_type": "stream",
     "text": [
      "List 2 :  [2, 3, 4]\n",
      "Common elements :  [2, 3]\n"
     ]
    }
   ],
   "source": [
    "list1 = []\n",
    "list2 = []\n",
    "\n",
    "#1st list creation, user defined list size and elements\n",
    "n = int(input(\"Enter number of element for 1st list: \"))\n",
    "\n",
    "for i in range(0, n):\n",
    "    e = int(input())\n",
    "    list1.append(e)\n",
    "\n",
    "print(\"List 1 : \", list1)\n",
    "\n",
    "#2nd list creation, user defined list size and elements\n",
    "m = int(input(\"Enter number of element for 2nd list: \"))\n",
    "\n",
    "for i in range(0, m):\n",
    "    e = int(input())\n",
    "    list2.append(e)\n",
    "    \n",
    "print(\"List 2 : \", list2)\n",
    "\n",
    "#finding the common elements from both the list\n",
    "result = list(filter(lambda x: x in list1, list2))\n",
    "\n",
    "print(\"Common elements : \", result)\n"
   ]
  },
  {
   "cell_type": "markdown",
   "id": "44f2fe97-cdbf-4896-acfd-46790e1ab5df",
   "metadata": {},
   "source": [
    "# 11. Write a recursive function to calculate the factorial of a given positive integer."
   ]
  },
  {
   "cell_type": "code",
   "execution_count": 6,
   "id": "5fd61f97-f575-49e8-9205-9bc611485bc2",
   "metadata": {},
   "outputs": [
    {
     "name": "stdout",
     "output_type": "stream",
     "text": [
      "Factorial is:  24\n"
     ]
    }
   ],
   "source": [
    "def fact(n):\n",
    "    if n == 1:\n",
    "        return n\n",
    "    else:\n",
    "        return n * fact(n - 1)\n",
    "    \n",
    "print(\"Factorial is: \", fact(4))"
   ]
  },
  {
   "cell_type": "markdown",
   "id": "0879c8ff-97b6-4cee-9773-1dea1171fa40",
   "metadata": {},
   "source": [
    "# 12. Implement a recursive function to compute the nth Fibonacci number."
   ]
  },
  {
   "cell_type": "code",
   "execution_count": 25,
   "id": "d9ea0a6c-2ba0-44d7-9d48-aa1e46aa43fc",
   "metadata": {},
   "outputs": [
    {
     "name": "stdout",
     "output_type": "stream",
     "text": [
      "Fibonacci number is:  8\n"
     ]
    }
   ],
   "source": [
    "def fibonacci(n):\n",
    "    if n <= 1:\n",
    "        return n\n",
    "    else:\n",
    "        return fibonacci(n-1) + fibonacci(n-2)\n",
    "    \n",
    "print(\"Fibonacci number is: \", fibonacci(6))"
   ]
  },
  {
   "cell_type": "markdown",
   "id": "683c8407-44fe-4564-bafa-cb3dd6d868c7",
   "metadata": {},
   "source": [
    "# 13. Create a recursive function to find the sum of all the elements in a given list."
   ]
  },
  {
   "cell_type": "code",
   "execution_count": 34,
   "id": "b364ea0c-0a85-4e76-9d9f-70122c0fb7d0",
   "metadata": {},
   "outputs": [
    {
     "name": "stdout",
     "output_type": "stream",
     "text": [
      "Sum of the elements is:  60\n"
     ]
    }
   ],
   "source": [
    "def Sum(list1, l):\n",
    "    if l <= 0:\n",
    "        return 0\n",
    "    else:\n",
    "        return Sum(list1, l - 1) + list1[l - 1]\n",
    "    \n",
    "l = len(list1)\n",
    "\n",
    "print(\"Sum of the elements is: \", Sum([10,5,20,15,6,4], l))"
   ]
  },
  {
   "cell_type": "markdown",
   "id": "bb9b6594-8a9c-4361-a567-5bd1633aa6cd",
   "metadata": {},
   "source": [
    "# 14. Write a recursive function to determine whether a given string is a palindrome."
   ]
  },
  {
   "cell_type": "code",
   "execution_count": 10,
   "id": "16eefb31-cd64-42ea-98e2-6c01bf7fbfb5",
   "metadata": {},
   "outputs": [
    {
     "name": "stdin",
     "output_type": "stream",
     "text": [
      "Enter a string:  madam\n"
     ]
    },
    {
     "name": "stdout",
     "output_type": "stream",
     "text": [
      "This is palindrome\n"
     ]
    }
   ],
   "source": [
    "#rcursive function to check a string is palindrome or not\n",
    "def Pal(string, start, end):\n",
    "    if start == end:\n",
    "        return True\n",
    "    if string[start] != string[end]:\n",
    "        return False\n",
    "    if start < end + 1:\n",
    "        return Pal(string, start + 1, end - 1)\n",
    "    return True\n",
    "\n",
    "#To check an empty string\n",
    "def isPal(string):\n",
    "    n = len(string)\n",
    "    if n == 0:\n",
    "        return True\n",
    "    else:\n",
    "        return Pal(string, 0, n - 1)\n",
    "\n",
    "string = input(\"Enter a string: \")\n",
    "\n",
    "if isPal(string):\n",
    "    print(\"This is palindrome\")\n",
    "else:\n",
    "    print(\"This is not palindrome\")"
   ]
  },
  {
   "cell_type": "markdown",
   "id": "94183c35-b5ab-4f4e-82d9-0b7f82c1650d",
   "metadata": {},
   "source": [
    "# 15. Implement a recursive function to find the greatest common divisor (GCD) of two positive integers."
   ]
  },
  {
   "cell_type": "code",
   "execution_count": 15,
   "id": "2a06768f-8fe5-4182-a6f4-81442fb56458",
   "metadata": {},
   "outputs": [
    {
     "name": "stdout",
     "output_type": "stream",
     "text": [
      "GCD is:  15\n"
     ]
    }
   ],
   "source": [
    "def gcd(a, b):\n",
    "    if a == b:\n",
    "        return a\n",
    "    elif a < b:\n",
    "        return gcd(b , a)\n",
    "    else:\n",
    "        return gcd(b, a - b)\n",
    "\n",
    "print(\"GCD is: \", gcd(30, 45))\n",
    "        "
   ]
  }
 ],
 "metadata": {
  "kernelspec": {
   "display_name": "Python 3 (ipykernel)",
   "language": "python",
   "name": "python3"
  },
  "language_info": {
   "codemirror_mode": {
    "name": "ipython",
    "version": 3
   },
   "file_extension": ".py",
   "mimetype": "text/x-python",
   "name": "python",
   "nbconvert_exporter": "python",
   "pygments_lexer": "ipython3",
   "version": "3.10.6"
  }
 },
 "nbformat": 4,
 "nbformat_minor": 5
}
