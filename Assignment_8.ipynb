{
 "cells": [
  {
   "cell_type": "markdown",
   "id": "c16ef058-2ce5-4b28-bb8e-b81e738dbe7f",
   "metadata": {},
   "source": [
    "1. In Python, what is the difference between a built-in function and a user-defined function? Provide an \n",
    "   example of each."
   ]
  },
  {
   "cell_type": "markdown",
   "id": "a89c538c-af4a-49af-a80c-888302203191",
   "metadata": {},
   "source": [
    "-> Built-in function are the pre-defined functions that are already present in python and can be used by anyone.\n",
    "    For example:-\n",
    "    len(), range(), sort(), etc.\n",
    "\n",
    "   User-defined function are the functions created by the users as per their requirement.\n",
    "    For example:-"
   ]
  },
  {
   "cell_type": "code",
   "execution_count": 3,
   "id": "fc2e71c5-3c86-4c0d-84db-ad4aaea30e78",
   "metadata": {},
   "outputs": [
    {
     "name": "stdout",
     "output_type": "stream",
     "text": [
      "John is a good student\n"
     ]
    }
   ],
   "source": [
    "def Myfirstfunction(name):\n",
    "    \n",
    "    print(name + \" is a good student\")\n",
    "    \n",
    "Myfirstfunction(\"John\")"
   ]
  },
  {
   "cell_type": "markdown",
   "id": "372b6af0-bde8-474b-b002-cec82ef7aba1",
   "metadata": {},
   "source": [
    "2. How can you pass arguments to a function in Python? Explain the difference between positional \n",
    "   arguments and keyword arguments."
   ]
  },
  {
   "cell_type": "markdown",
   "id": "a6b76420-0951-43f0-98a5-2d4becd5c0cf",
   "metadata": {},
   "source": [
    "-> Arguments are specified after the function name, inside the parentheses. If there are more than 1 argument\n",
    "they needs to be separated by comma."
   ]
  },
  {
   "cell_type": "markdown",
   "id": "3c08bfc0-41b3-407f-89a1-a88c396ce7a5",
   "metadata": {},
   "source": [
    "Positional arguments are arguments that need to be passed to a function in the proper position or order\n",
    "\n",
    "Keyword argument is an argument passed to a function which contains a keyword followed by an equals( = ) sign. If there are more than one keyword argument, the order does not needs to be maintained and can be passed in any order.\n"
   ]
  },
  {
   "cell_type": "markdown",
   "id": "b19b9b64-c428-4fee-b885-e626fa411429",
   "metadata": {},
   "source": [
    "3. What is the purpose of the return statement in a function? Can a function have multiple return statements? Explain with an example."
   ]
  },
  {
   "cell_type": "markdown",
   "id": "fcb7e1c2-a434-40e8-bf21-c163330dd81a",
   "metadata": {},
   "source": [
    "-> A return statement stops the execution of the function and returns a value to the calling function."
   ]
  },
  {
   "cell_type": "markdown",
   "id": "34c5bc64-13be-40e1-a7a7-43dfe27ae7cf",
   "metadata": {},
   "source": [
    "Yes, a function can have multiple return statement. But only the one that is executed will return a value and the others will not be executed."
   ]
  },
  {
   "cell_type": "code",
   "execution_count": 4,
   "id": "7f301623-9928-4a03-8f20-7f951892aace",
   "metadata": {},
   "outputs": [
    {
     "data": {
      "text/plain": [
       "10"
      ]
     },
     "execution_count": 4,
     "metadata": {},
     "output_type": "execute_result"
    }
   ],
   "source": [
    "#For example, below function block to return the absolute value of a number\n",
    "\n",
    "def get_abs_value(num):\n",
    "    \n",
    "    if num < 0:\n",
    "        \n",
    "        return -num\n",
    "    \n",
    "    else:\n",
    "        \n",
    "        return num\n",
    "\n",
    "#calling\n",
    "\n",
    "get_abs_value(-10)"
   ]
  },
  {
   "cell_type": "markdown",
   "id": "ace8e032-edf2-4cb5-b005-e0b1e9a54d81",
   "metadata": {},
   "source": [
    "4. What are lambda functions in Python? How are they different from regular functions? Provide an example where a lambda function can be useful."
   ]
  },
  {
   "cell_type": "markdown",
   "id": "0cbbc101-33be-45b4-86ee-9f2bbc0d75bc",
   "metadata": {},
   "source": [
    "-> A lambda function is a small anonymous function. It can take amy number of arguments, but can have only one expression."
   ]
  },
  {
   "cell_type": "markdown",
   "id": "9b2bbc51-0a70-439f-9f4a-1bffc19fe089",
   "metadata": {},
   "source": [
    "A lambda function does not need a function name unlike regular functions. The parameters of a lambda function does not need to be surrounded with parentheses."
   ]
  },
  {
   "cell_type": "code",
   "execution_count": 3,
   "id": "f19ce1f3-6703-4923-9aac-10b8f435c638",
   "metadata": {},
   "outputs": [
    {
     "name": "stdout",
     "output_type": "stream",
     "text": [
      "10\n"
     ]
    }
   ],
   "source": [
    "#for example: below code to find max number using lambda function\n",
    "\n",
    "max_num = lambda x,y: x if x > y else y\n",
    "\n",
    "print(max_num(5, 10))"
   ]
  },
  {
   "cell_type": "markdown",
   "id": "9401646b-5fec-4a93-8010-3282da37893f",
   "metadata": {},
   "source": [
    "5. How does the concept of \"scope\" apply to functions in Python? Explain the difference between local scope and global scope."
   ]
  },
  {
   "cell_type": "markdown",
   "id": "733c7b3c-3806-43fe-bbe3-d2e60d65ff82",
   "metadata": {},
   "source": [
    "-> Scope is the location in a program where a name is visible and accessible"
   ]
  },
  {
   "cell_type": "markdown",
   "id": "cb6456a9-04b0-4f0f-9400-bcf42d5c5a0c",
   "metadata": {},
   "source": [
    "A variable created inside a function belongs to the local scope of that function, and can only be used inside that function."
   ]
  },
  {
   "cell_type": "markdown",
   "id": "7d182737-e410-44c1-85b0-670c5a06db29",
   "metadata": {},
   "source": [
    "A variable created in the main body of the Python code is a global variable and belongs to the global scope. \n",
    "Global variables are available from within any scope, global and local."
   ]
  },
  {
   "cell_type": "markdown",
   "id": "ae28f036-c174-43e6-9348-3b8b632a6d6d",
   "metadata": {},
   "source": [
    "6. How can you use the \"return\" statement in a Python function to return multiple values?"
   ]
  },
  {
   "cell_type": "code",
   "execution_count": 8,
   "id": "95e03706-4d18-435f-b724-8dc469c8473b",
   "metadata": {},
   "outputs": [
    {
     "name": "stdin",
     "output_type": "stream",
     "text": [
      "Enter 1st number: 10\n",
      "Enter 2nd number: 5\n"
     ]
    },
    {
     "name": "stdout",
     "output_type": "stream",
     "text": [
      "The sum of the two numbers: 15.0\n",
      "The difference of the two numbers: 5.0\n",
      "The product of the two numbers: 50.0\n",
      "The quotient of the two numbers: 2.0\n"
     ]
    }
   ],
   "source": [
    "#For example: below code shows the use of single return statement to return multiple values\n",
    "\n",
    "def calculator():\n",
    "    num1 = float(input(\"Enter 1st number:\"))\n",
    "    num2 = float(input(\"Enter 2nd number:\"))\n",
    "    \n",
    "    #Addition\n",
    "    sum_result = num1 + num2\n",
    "    \n",
    "    #Subtraction\n",
    "    diff_result = num1 - num2\n",
    "    \n",
    "    #Multiply\n",
    "    multi_result = num1 * num2\n",
    "    \n",
    "    #Divide\n",
    "    div_result = num1 / num2\n",
    "    \n",
    "    return {\n",
    "        \"Sum\" : sum_result,\n",
    "        \"Diff\" : diff_result,\n",
    "        \"Product\" : multi_result,\n",
    "        \"Quotient\" : div_result,\n",
    "    }\n",
    "\n",
    "result = calculator()\n",
    "print(\"The sum of the two numbers:\", result[\"Sum\"])\n",
    "print(\"The difference of the two numbers:\", result[\"Diff\"])\n",
    "print(\"The product of the two numbers:\", result[\"Product\"])\n",
    "print(\"The quotient of the two numbers:\", result[\"Quotient\"])"
   ]
  },
  {
   "cell_type": "markdown",
   "id": "bdc1c26b-045d-41c9-ae61-7caa149d2b7f",
   "metadata": {},
   "source": [
    "7. What is the difference between the \"pass by value\" and \"pass by reference\" concepts when it comes to function arguments in Python?"
   ]
  },
  {
   "cell_type": "markdown",
   "id": "36433db0-3b8c-49aa-8a3c-5e38b0ebf86e",
   "metadata": {},
   "source": [
    "-> In pass by value, the value of a function parameter is copied to another variable. When accessing or modifying the variable within the function, it accesses only the copy. Thus, there is no effect on the original value."
   ]
  },
  {
   "cell_type": "markdown",
   "id": "16bbb236-5259-4797-a66d-3ca2311b5cdd",
   "metadata": {},
   "source": [
    "In pass by reference, the function gets access to the actual variable. Therefore, the changes are made to the original value."
   ]
  },
  {
   "cell_type": "markdown",
   "id": "8274dcb4-a243-4c63-a0cf-8b8269468a42",
   "metadata": {},
   "source": [
    "8. Create a function that can intake integer or decimal value and do following operations:"
   ]
  },
  {
   "cell_type": "markdown",
   "id": "bd414f5c-11c6-46a4-9192-660256a1854e",
   "metadata": {},
   "source": [
    "a. Logarithmic function (log x)"
   ]
  },
  {
   "cell_type": "markdown",
   "id": "9071b317-97a3-4adc-b236-879cab533add",
   "metadata": {},
   "source": [
    "b. Exponential function (exp(x))"
   ]
  },
  {
   "cell_type": "markdown",
   "id": "67b358ea-d9f5-403d-8403-5646b1cba4a5",
   "metadata": {},
   "source": [
    "c. Power function with base 2 (2^x)"
   ]
  },
  {
   "cell_type": "markdown",
   "id": "14d69727-581b-42f2-8275-28f878725226",
   "metadata": {},
   "source": [
    "d. Square root"
   ]
  },
  {
   "cell_type": "code",
   "execution_count": 22,
   "id": "97ebc14c-ca8a-4ad1-96c6-ad303e0ac65b",
   "metadata": {},
   "outputs": [
    {
     "name": "stdin",
     "output_type": "stream",
     "text": [
      "Enter a number:  4\n"
     ]
    },
    {
     "name": "stdout",
     "output_type": "stream",
     "text": [
      "The log of 4.0 :             1.3862943611198906\n",
      "The exponent of 4.0 :        54.598150033144236\n",
      "The power of 4.0 :           16.0\n",
      "The square root of 4.0 :     2.0\n"
     ]
    }
   ],
   "source": [
    "import math\n",
    "def operation():\n",
    "    global x \n",
    "    x = float(input(\"Enter a number: \"))\n",
    "    \n",
    "    #Log\n",
    "    log_result = math.log(x)\n",
    "    \n",
    "    #Exponent\n",
    "    exp_result = math.exp(x)\n",
    "    \n",
    "    #Power\n",
    "    pow_result = 2 ** x\n",
    "    \n",
    "    #Square_root\n",
    "    sqrt_result = x ** 0.5\n",
    "    \n",
    "    return {\n",
    "        \"Log\": log_result,\n",
    "        \"Exp\": exp_result,\n",
    "        \"Power\": pow_result,\n",
    "        \"Sqroot\": sqrt_result\n",
    "    }\n",
    "\n",
    "result = operation()\n",
    "print(\"The log of \" + str(x) + \" :            \", result[\"Log\"])\n",
    "print(\"The exponent of \" + str(x)+ \" :       \", result[\"Exp\"])\n",
    "print(\"The power of \" + str(x)+ \" :          \", result[\"Power\"])\n",
    "print(\"The square root of \" + str(x) + \" :    \", result[\"Sqroot\"])"
   ]
  },
  {
   "cell_type": "markdown",
   "id": "1e8d222f-e5ac-466f-848c-f9bcb820321e",
   "metadata": {},
   "source": [
    "9. Create a function that takes a full name as an argument and returns first name and last name."
   ]
  },
  {
   "cell_type": "code",
   "execution_count": 4,
   "id": "5a8a7b2b-8256-4d1b-a457-052af2bc6614",
   "metadata": {},
   "outputs": [
    {
     "name": "stdin",
     "output_type": "stream",
     "text": [
      "Enter a full name:  John Doe\n"
     ]
    },
    {
     "name": "stdout",
     "output_type": "stream",
     "text": [
      "First name:  John\n",
      "Last name:  Doe\n"
     ]
    }
   ],
   "source": [
    "def splitting():\n",
    "    full_name = input(\"Enter a full name: \")\n",
    "    \n",
    "    #slicing and storing the first name\n",
    "    first_name = full_name.split()[0]\n",
    "    \n",
    "    #slicing and storing the last name\n",
    "    last_name = full_name.split()[-1]\n",
    "    \n",
    "    return {\n",
    "        \"first\": first_name,\n",
    "        \"last\": last_name\n",
    "    }\n",
    "\n",
    "#calling\n",
    "name = splitting()\n",
    "\n",
    "print(\"First name: \", name[\"first\"])\n",
    "print(\"Last name: \", name[\"last\"])"
   ]
  }
 ],
 "metadata": {
  "kernelspec": {
   "display_name": "Python 3 (ipykernel)",
   "language": "python",
   "name": "python3"
  },
  "language_info": {
   "codemirror_mode": {
    "name": "ipython",
    "version": 3
   },
   "file_extension": ".py",
   "mimetype": "text/x-python",
   "name": "python",
   "nbconvert_exporter": "python",
   "pygments_lexer": "ipython3",
   "version": "3.10.6"
  }
 },
 "nbformat": 4,
 "nbformat_minor": 5
}
