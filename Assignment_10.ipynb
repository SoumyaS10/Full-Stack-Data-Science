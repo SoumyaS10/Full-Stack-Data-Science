{
 "cells": [
  {
   "cell_type": "markdown",
   "id": "d561157d-2473-4dd1-b764-83fa342d361e",
   "metadata": {},
   "source": [
    "# 1. What is the role of try and exception block?"
   ]
  },
  {
   "cell_type": "markdown",
   "id": "7c37f64d-7e29-44e7-b341-b633642dac6a",
   "metadata": {},
   "source": [
    "-> Try block is used to check a block of code for errors"
   ]
  },
  {
   "cell_type": "markdown",
   "id": "f0710a4d-4367-4035-b548-8d63d7bb1234",
   "metadata": {},
   "source": [
    "The exception block is used to handle the error."
   ]
  },
  {
   "cell_type": "markdown",
   "id": "bac17060-c35d-4ab6-8402-5b875c91bf3f",
   "metadata": {},
   "source": [
    "# 2. What is the syntax for a basic try-except block?"
   ]
  },
  {
   "cell_type": "code",
   "execution_count": 1,
   "id": "f69d9e77-deb2-455b-a815-dfd6cd5dc085",
   "metadata": {},
   "outputs": [
    {
     "name": "stdout",
     "output_type": "stream",
     "text": [
      "There is no X\n"
     ]
    }
   ],
   "source": [
    "#bacis try-except syntax\n",
    "\n",
    "try:\n",
    "    print(x) #part of code that can throw error is included inside try\n",
    "except:\n",
    "    print(\"There is no X\") #error handling with more meaningful and definitive message"
   ]
  },
  {
   "cell_type": "markdown",
   "id": "2e4248f4-70f2-4406-b32d-a0a3aa2dafd5",
   "metadata": {},
   "source": [
    "# 3. What happens if an exception occurs inside a try block and there is no matching except block?"
   ]
  },
  {
   "cell_type": "markdown",
   "id": "75cefc5f-54e3-4225-a334-364b5736999b",
   "metadata": {},
   "source": [
    "-> If an exception occurs inside a try block and there is no matching except block then the program terminates and throws a system generated error message"
   ]
  },
  {
   "cell_type": "code",
   "execution_count": 6,
   "id": "2a602c6e-da2b-40af-a746-847854ca6054",
   "metadata": {},
   "outputs": [
    {
     "name": "stdin",
     "output_type": "stream",
     "text": [
      "Enter 1st number:  4.12\n"
     ]
    },
    {
     "ename": "ValueError",
     "evalue": "invalid literal for int() with base 10: '4.12'",
     "output_type": "error",
     "traceback": [
      "\u001b[0;31m---------------------------------------------------------------------------\u001b[0m",
      "\u001b[0;31mValueError\u001b[0m                                Traceback (most recent call last)",
      "Cell \u001b[0;32mIn [6], line 2\u001b[0m\n\u001b[1;32m      1\u001b[0m \u001b[38;5;28;01mtry\u001b[39;00m:\n\u001b[0;32m----> 2\u001b[0m     n1 \u001b[38;5;241m=\u001b[39m \u001b[38;5;28;43mint\u001b[39;49m\u001b[43m(\u001b[49m\u001b[38;5;28;43minput\u001b[39;49m\u001b[43m(\u001b[49m\u001b[38;5;124;43m\"\u001b[39;49m\u001b[38;5;124;43mEnter 1st number: \u001b[39;49m\u001b[38;5;124;43m\"\u001b[39;49m\u001b[43m)\u001b[49m\u001b[43m)\u001b[49m\n\u001b[1;32m      3\u001b[0m     n2 \u001b[38;5;241m=\u001b[39m \u001b[38;5;28mint\u001b[39m(\u001b[38;5;28minput\u001b[39m(\u001b[38;5;124m\"\u001b[39m\u001b[38;5;124mEnter 2nd number: \u001b[39m\u001b[38;5;124m\"\u001b[39m))\n\u001b[1;32m      5\u001b[0m     result \u001b[38;5;241m=\u001b[39m n1 \u001b[38;5;241m/\u001b[39m n2\n",
      "\u001b[0;31mValueError\u001b[0m: invalid literal for int() with base 10: '4.12'"
     ]
    }
   ],
   "source": [
    "#For example, \n",
    "try:\n",
    "    n1 = int(input(\"Enter 1st number: \"))\n",
    "    n2 = int(input(\"Enter 2nd number: \"))\n",
    "    \n",
    "    result = n1 / n2\n",
    "    print(\"Result: \", result)\n",
    "\n",
    "except ZeroDivisionError:\n",
    "    print(\"You have divided the number by zero\")"
   ]
  },
  {
   "cell_type": "markdown",
   "id": "b8247cea-085b-410b-99a3-c877d7baed62",
   "metadata": {},
   "source": [
    "# 4. What is the difference between using a bare except block and specifying a specific exception type?"
   ]
  },
  {
   "cell_type": "markdown",
   "id": "877171ee-41d4-41c3-8280-e615b34cd012",
   "metadata": {},
   "source": [
    "-> Using a bare except block does not catch multiple errors in a particular try block. If there are more than 1 error in the try block, it will only show the specified message, and we will not be able to detect the other errors."
   ]
  },
  {
   "cell_type": "markdown",
   "id": "2bec2a5d-aeca-4f2a-85a1-484149e58c2c",
   "metadata": {},
   "source": [
    "Specifying a specific exception type helps to catch that particular error and if there are any other error then a system generated error will be thrown for those."
   ]
  },
  {
   "cell_type": "markdown",
   "id": "fec1ba5f-4bd1-4f2c-aa47-dd150c00a325",
   "metadata": {},
   "source": [
    "# 5. Can you have nested try-except blocks in Python? If yes, then give an example."
   ]
  },
  {
   "cell_type": "markdown",
   "id": "cb3ab359-8f40-422e-9cd9-fa02a072ee00",
   "metadata": {},
   "source": [
    "-> Yes we can have nested try-except block in python."
   ]
  },
  {
   "cell_type": "code",
   "execution_count": 9,
   "id": "9d79772b-cf36-43f4-83c4-c1e2db0b5e67",
   "metadata": {},
   "outputs": [
    {
     "name": "stdin",
     "output_type": "stream",
     "text": [
      "Enter 1st number:  6\n",
      "Enter 2nd number:  0\n"
     ]
    },
    {
     "name": "stdout",
     "output_type": "stream",
     "text": [
      "You have divided by zero\n"
     ]
    }
   ],
   "source": [
    "# For example\n",
    "\n",
    "try:\n",
    "    n1 = int(input(\"Enter 1st number: \"))\n",
    "    n2 = int(input(\"Enter 2nd number: \"))\n",
    "    \n",
    "    try:\n",
    "        result = n1 / n2\n",
    "        print(\"Result: \", result)\n",
    "    \n",
    "    except ZeroDivisionError:\n",
    "        print(\"You have divided by zero\")\n",
    "\n",
    "except ValueError:\n",
    "    print(\"Input type is integer but float type input is entered\")\n",
    "\n"
   ]
  },
  {
   "cell_type": "markdown",
   "id": "85b7b9f7-f002-426b-b227-5dd989ffac17",
   "metadata": {},
   "source": [
    "# 6. Can we use multiple exception blocks, if yes then give an example."
   ]
  },
  {
   "cell_type": "code",
   "execution_count": 14,
   "id": "6c531d3c-b2be-48e3-a393-17c8e55cc957",
   "metadata": {},
   "outputs": [
    {
     "name": "stdin",
     "output_type": "stream",
     "text": [
      "Enter 1st number:  10\n",
      "Enter 2nd number:  4.12\n"
     ]
    },
    {
     "name": "stdout",
     "output_type": "stream",
     "text": [
      "Integer type input but float entered\n"
     ]
    }
   ],
   "source": [
    "try:\n",
    "    n1 = int(input(\"Enter 1st number: \"))\n",
    "    n2 = int(input(\"Enter 2nd number: \"))\n",
    "    \n",
    "    result = n1 / n2\n",
    "    print(\"Result: \", result)\n",
    "\n",
    "except ZeroDivisionError:\n",
    "    print(\"You have divided the number by zero\")\n",
    "\n",
    "except ValueError:\n",
    "    print(\"Integer type input but float entered\")\n",
    "\n",
    "except TypeError:\n",
    "    print(\"Data type mismatch\")"
   ]
  },
  {
   "cell_type": "markdown",
   "id": "6e568a34-bed6-4d7c-bcbc-37a1f9d76b2c",
   "metadata": {},
   "source": [
    "# 7. Write the reason due to which following errors are raised: \n",
    "    a. EOFError\n",
    "    b. FloatingPointError\n",
    "    c. IndexError\n",
    "    d. MemoryError\n",
    "    e. OverflowError\n",
    "    f. TabError\n",
    "    g. ValueError"
   ]
  },
  {
   "cell_type": "markdown",
   "id": "2073ab6b-ee71-454b-95e4-e958de391790",
   "metadata": {},
   "source": [
    "->  a. EOFError - When the input() function reaches an end-of-file condition, without reading any data.\n",
    "\n",
    "    b. FloatingPointError - When a floating point operation fails.\n",
    "    \n",
    "    c. IndexError - When an index of list is being accessed which is out of the specified range.\n",
    "    \n",
    "    d. MemoryError - When the program runs out of the allocated memory.\n",
    "    \n",
    "    e. OverflowError - When the result of an arithmetic operation is out of range.\n",
    "    \n",
    "    f. TabError - When we inconsistent use of tabs and spaces occurs in indentation.\n",
    "    \n",
    "    g. ValueError - When an invalid value is provided to a particular data type."
   ]
  },
  {
   "cell_type": "markdown",
   "id": "72438f78-39c7-4dcc-a7e6-046ab79c9c72",
   "metadata": {},
   "source": [
    "# 8. Write code for the following given scenario and add try-exception block to it.\n",
    "    a. Program to divide two numbers\n",
    "    b. Program to convert a string to an integer\n",
    "    c. Program to access an element in a list\n",
    "    d. Program to handle a specific exception\n",
    "    e. Program to handle any exception"
   ]
  },
  {
   "cell_type": "code",
   "execution_count": 20,
   "id": "5615dc2d-d79f-493a-bfc0-ba7974186df8",
   "metadata": {},
   "outputs": [
    {
     "name": "stdin",
     "output_type": "stream",
     "text": [
      "Enter 1st number:  10\n",
      "Enter 2nd number:  4.12\n"
     ]
    },
    {
     "name": "stdout",
     "output_type": "stream",
     "text": [
      "Integer type input but float entered\n"
     ]
    }
   ],
   "source": [
    "#Program to divide two numbers\n",
    "try:\n",
    "    n1 = int(input(\"Enter 1st number: \"))\n",
    "    n2 = int(input(\"Enter 2nd number: \"))\n",
    "    \n",
    "    result = n1 / n2\n",
    "    print(\"Result: \", result)\n",
    "\n",
    "except ValueError:\n",
    "    print(\"Integer type input but float entered\")"
   ]
  },
  {
   "cell_type": "code",
   "execution_count": 21,
   "id": "41160dbd-089c-4d13-bd5f-e272427c3a9d",
   "metadata": {},
   "outputs": [
    {
     "name": "stdout",
     "output_type": "stream",
     "text": [
      "55\n"
     ]
    }
   ],
   "source": [
    "#Program to convert a string to an integer\n",
    "try:\n",
    "    string = \"55\"\n",
    "    \n",
    "    Int = int(string)\n",
    "\n",
    "    print(Int)\n",
    "\n",
    "except TypeError:\n",
    "    print(\"Data type mismatch\")"
   ]
  },
  {
   "cell_type": "code",
   "execution_count": 27,
   "id": "056166a5-b18a-4cd2-aa8a-5ac94934d073",
   "metadata": {},
   "outputs": [
    {
     "name": "stdout",
     "output_type": "stream",
     "text": [
      "Index entered is out of list range\n"
     ]
    }
   ],
   "source": [
    "#Program to access an element in a list\n",
    "try:\n",
    "    list1 = [10, 5, 20, 50]\n",
    "    print(list1[4])\n",
    "\n",
    "except IndexError:\n",
    "    print(\"Index entered is out of list range\")"
   ]
  },
  {
   "cell_type": "code",
   "execution_count": 2,
   "id": "07495a31-2e0d-4289-adaa-45d2a9d36523",
   "metadata": {},
   "outputs": [
    {
     "name": "stdout",
     "output_type": "stream",
     "text": [
      "Insufficient Memory for the list\n"
     ]
    }
   ],
   "source": [
    "#Program to handle a specific exception\n",
    "try:\n",
    "    big_list = [1] * (10 ** 12)\n",
    "    \n",
    "except MemoryError:\n",
    "    print(\"Insufficient Memory for the list\")"
   ]
  },
  {
   "cell_type": "code",
   "execution_count": 5,
   "id": "2583ce99-066e-4cf8-9a85-4524b2a68caa",
   "metadata": {},
   "outputs": [
    {
     "name": "stdout",
     "output_type": "stream",
     "text": [
      "One or more error occured\n"
     ]
    }
   ],
   "source": [
    "#Program to handle any exception\n",
    "try:\n",
    "    list1 = [10, 5, 20, 50]\n",
    "    print(list1[4])\n",
    "    \n",
    "    big_list = [1] * (10 ** 12)\n",
    "\n",
    "except:\n",
    "    print(\"One or more error occured\")"
   ]
  }
 ],
 "metadata": {
  "kernelspec": {
   "display_name": "Python 3 (ipykernel)",
   "language": "python",
   "name": "python3"
  },
  "language_info": {
   "codemirror_mode": {
    "name": "ipython",
    "version": 3
   },
   "file_extension": ".py",
   "mimetype": "text/x-python",
   "name": "python",
   "nbconvert_exporter": "python",
   "pygments_lexer": "ipython3",
   "version": "3.10.6"
  }
 },
 "nbformat": 4,
 "nbformat_minor": 5
}
