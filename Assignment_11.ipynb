{
 "cells": [
  {
   "cell_type": "markdown",
   "id": "6eb79acf-782f-4f82-8256-08ed48ccc85f",
   "metadata": {},
   "source": [
    "# 1. What is the role of the 'else' block in a try-except statement? Provide an example scenario where it would be useful."
   ]
  },
  {
   "cell_type": "markdown",
   "id": "c79ad15e-5f4b-47db-bcd7-5326532bfe6f",
   "metadata": {},
   "source": [
    "-> The role of else block in try-except statement is to execute the code incase of no error"
   ]
  },
  {
   "cell_type": "code",
   "execution_count": 3,
   "id": "197a6156-8394-4c68-9404-8f972bf64547",
   "metadata": {},
   "outputs": [
    {
     "name": "stdout",
     "output_type": "stream",
     "text": [
      "[1, 4, 7, 10]\n",
      "No error\n"
     ]
    }
   ],
   "source": [
    "#For example,\n",
    "\n",
    "try:\n",
    "    x = [1, 4, 7, 10]\n",
    "    print(x)\n",
    "    \n",
    "except:\n",
    "    print(\"There is no X\")\n",
    "    \n",
    "else:\n",
    "    print(\"No error\")"
   ]
  },
  {
   "cell_type": "markdown",
   "id": "9477e999-2127-4adb-b8fe-604e91ebfd27",
   "metadata": {},
   "source": [
    "# 2. Can a try-except block be nested inside another try-except block? Explain with an example."
   ]
  },
  {
   "cell_type": "markdown",
   "id": "bc40c2f6-f601-4bf6-badb-3a5b4c3cd7a9",
   "metadata": {},
   "source": [
    "->Yes, a try-except block can be nested inside another try-except block."
   ]
  },
  {
   "cell_type": "code",
   "execution_count": 4,
   "id": "a11ac7f0-1f6f-4577-a437-097adbb24e18",
   "metadata": {},
   "outputs": [
    {
     "name": "stdin",
     "output_type": "stream",
     "text": [
      "Enter 1st number:  10\n",
      "Enter 2nd number:  4.12\n"
     ]
    },
    {
     "name": "stdout",
     "output_type": "stream",
     "text": [
      "Input type is integer but float type input is entered\n"
     ]
    }
   ],
   "source": [
    "# For example\n",
    "\n",
    "try:\n",
    "    n1 = int(input(\"Enter 1st number: \"))\n",
    "    n2 = int(input(\"Enter 2nd number: \"))\n",
    "    \n",
    "    try:\n",
    "        result = n1 / n2\n",
    "        print(\"Result: \", result)\n",
    "    \n",
    "    except ZeroDivisionError:\n",
    "        print(\"You have divided by zero\")\n",
    "\n",
    "except ValueError:\n",
    "    print(\"Input type is integer but float type input is entered\")\n"
   ]
  },
  {
   "cell_type": "markdown",
   "id": "0cc019fe-1ed8-48c2-b4eb-3c019d84a47e",
   "metadata": {},
   "source": [
    "# 3. How can you create a custom exception class in Python? Provide an example that demonstrates its usage."
   ]
  },
  {
   "cell_type": "markdown",
   "id": "d2f1883a-83c7-493c-b515-66536fd1d37e",
   "metadata": {},
   "source": [
    "->A custom exception class in python can be created by creating a new class that is derived from a buil-in exception class"
   ]
  },
  {
   "cell_type": "code",
   "execution_count": 10,
   "id": "e8eaa1d2-6db8-4b03-8c58-14ba7835d10c",
   "metadata": {},
   "outputs": [
    {
     "name": "stdin",
     "output_type": "stream",
     "text": [
      "Enter your age:  17\n"
     ]
    },
    {
     "name": "stdout",
     "output_type": "stream",
     "text": [
      "You can not vote at this age\n"
     ]
    }
   ],
   "source": [
    "#For example, below code to check eligible to vote using custom exception class\n",
    "\n",
    "class CheckAge(Exception):\n",
    "    pass\n",
    "\n",
    "n = 18\n",
    "try:\n",
    "    age = int(input(\"Enter your age: \"))\n",
    "    \n",
    "    if age < n:\n",
    "        raise CheckAge\n",
    "    \n",
    "    else:\n",
    "        print(\"You can vote\")\n",
    "              \n",
    "except CheckAge:\n",
    "    print(\"You can not vote at this age\")"
   ]
  },
  {
   "cell_type": "markdown",
   "id": "dce53bc9-bcfd-4ac4-b8e8-f6fa49523131",
   "metadata": {},
   "source": [
    "# 4. What are some common exceptions that are built-in to Python?"
   ]
  },
  {
   "cell_type": "markdown",
   "id": "6d5e4d5d-c78b-48ce-b954-c87db60303db",
   "metadata": {},
   "source": [
    "-> Some built-in exceptions in python are :-\n",
    "\n",
    "    1. ValueError\n",
    "    2. ZeroDivisionError\n",
    "    3. TypeError\n",
    "    4. MemoryError\n",
    "    5. OverflowError\n",
    "    6. TabError\n",
    "    7. IndexError\n",
    "    8. KeyError\n",
    "    9. NameError\n",
    "    10. SyntaxError"
   ]
  },
  {
   "cell_type": "markdown",
   "id": "bf49220a-d7c4-41c4-a852-1a8308c2e3b0",
   "metadata": {},
   "source": [
    "# 5. What is logging in Python, and why is it important in software development?"
   ]
  },
  {
   "cell_type": "markdown",
   "id": "992dd11b-fa9f-4b2f-9527-1d36a0ebd10a",
   "metadata": {},
   "source": [
    "-> Logging means tracking of events when some program runs."
   ]
  },
  {
   "cell_type": "markdown",
   "id": "d61982ed-6adb-4674-a7c9-184822f46c28",
   "metadata": {},
   "source": [
    "Logging is important in software development because without any logging record, when the program crashes, there are few chances to detect the cause of error."
   ]
  },
  {
   "cell_type": "markdown",
   "id": "0b79dd0e-215a-4597-a874-ac23c8793636",
   "metadata": {},
   "source": [
    "# 6. Explain the purpose of log levels in Python logging and provide examples of when each log level would be appropriate."
   ]
  },
  {
   "cell_type": "markdown",
   "id": "57300d91-39fb-43fa-93f5-1c0303cd9728",
   "metadata": {},
   "source": [
    "-> Log levels refer to the importance of the log."
   ]
  },
  {
   "cell_type": "markdown",
   "id": "883e89e8-87d0-430f-973e-4c6713177fb6",
   "metadata": {},
   "source": [
    "Python log levels :-\n",
    "\n",
    "    1. Debug - This level gives detailed information that is useful during debugging.\n",
    "    2. Info - This is used to confirm that everything is working.\n",
    "    3. Warning - This level indicates that some problem can happen in near future.\n",
    "    4. Error - This indicates an error has occured. The software was unable to perfom some function.\n",
    "    5. Critical - A serious error has occured. The program itself may shut down or not be able to run properly."
   ]
  },
  {
   "cell_type": "markdown",
   "id": "a32a00a0-4237-4376-8e7f-127cd2b6254f",
   "metadata": {},
   "source": [
    "# 7. What are log formatters in Python logging, and how can you customise the log message format using formatters?"
   ]
  },
  {
   "cell_type": "markdown",
   "id": "ecd5715d-301a-47c1-98b7-23fa8b7efcf8",
   "metadata": {},
   "source": [
    "-> Log formatters are used to convert a log record to a string which can be easily read by the programmer."
   ]
  },
  {
   "cell_type": "markdown",
   "id": "ac32d83d-6c86-4d9e-acb7-5823e49602d9",
   "metadata": {},
   "source": [
    "To customise the log message using formatters, we need to use the below syntax"
   ]
  },
  {
   "cell_type": "markdown",
   "id": "493f8b6f-471c-4fb4-b0b4-99adc2e8db9c",
   "metadata": {},
   "source": [
    "handler.setFormatter(logging.Formatter('%(asctime)s:%(levelname)s:%(message)s')"
   ]
  },
  {
   "cell_type": "markdown",
   "id": "ac5ce5ba-869f-4104-81ec-2d8d95e9a9b7",
   "metadata": {},
   "source": [
    "# 8. How can you set up logging to capture log messages from multiple modules or classes in a Python application?"
   ]
  },
  {
   "cell_type": "markdown",
   "id": "669f1756-20b4-4b39-87f4-79d89fe3a027",
   "metadata": {},
   "source": [
    "-> To capture log messages from multiple modules or classes in a Python application, we can set up a logging system using the logging module. The logging module provides a flexible and powerful way to manage and customize log messages."
   ]
  },
  {
   "cell_type": "markdown",
   "id": "d19d9d0b-97ee-4443-ace7-1266758d3459",
   "metadata": {},
   "source": [
    "# 9. What is the difference between the logging and print statements in Python? When should you use logging over print statements in a real-world application?"
   ]
  },
  {
   "cell_type": "markdown",
   "id": "d3163274-ca55-489b-a002-8366ca47a9f5",
   "metadata": {},
   "source": [
    "-> The logging module provides a flexible way to log different messages in various output destinations such as on the console, in files, and on networks."
   ]
  },
  {
   "cell_type": "markdown",
   "id": "c8634c09-c426-423b-8b79-a8fc726b5351",
   "metadata": {},
   "source": [
    "The print statement is a built-in function in Python that prints the specified value or values only to the console."
   ]
  },
  {
   "cell_type": "markdown",
   "id": "5d71f526-898a-49ee-bf1f-2746d32b9fa5",
   "metadata": {},
   "source": [
    "Logging is a best practice for production code. The logging module provides features such as log levels and filtering."
   ]
  },
  {
   "cell_type": "markdown",
   "id": "4c0c546f-caff-4c43-931b-c18ab52f53bd",
   "metadata": {},
   "source": [
    "The print statement is mainly used for debugging and is not recommended for logging information in production code."
   ]
  },
  {
   "cell_type": "markdown",
   "id": "1b47743b-dc0a-471c-bb8b-90235733eae9",
   "metadata": {},
   "source": [
    "# 10. Write a Python program that logs a message to a file named \"app.log\" with the following requirements:\n",
    "# ● The log message should be \"Hello, World!\"\n",
    "# ● The log level should be set to \"INFO.\"\n",
    "# ● The log file should append new log entries without overwriting previous ones."
   ]
  },
  {
   "cell_type": "code",
   "execution_count": 1,
   "id": "03ffe124-dd22-43f5-a941-fe9c04fa761c",
   "metadata": {},
   "outputs": [
    {
     "name": "stdout",
     "output_type": "stream",
     "text": [
      "/home/jovyan/work\n"
     ]
    }
   ],
   "source": [
    "import os\n",
    "print(os.getcwd())"
   ]
  },
  {
   "cell_type": "code",
   "execution_count": 7,
   "id": "28f38a57-9082-4974-885c-e5804a92034c",
   "metadata": {},
   "outputs": [],
   "source": [
    "import os\n",
    "import logging\n",
    "\n",
    "dir_path = r'/home/jovyan/work'\n",
    "\n",
    "log_file = \"app.log\"\n",
    "full_path = os.path.join(dir_path, log_file)\n",
    "\n",
    "logger = logging.getLogger()\n",
    "logging.basicConfig(level = logging.INFO, filemode = 'a')\n",
    "\n",
    "handler = logging.FileHandler(full_path)\n",
    "handler.setFormatter(logging.Formatter('%(asctime)s:%(levelname)s:%(message)s'))\n",
    "\n",
    "logger.addHandler(handler)\n",
    "\n",
    "logging.info(\"Hello, World!\")\n",
    "\n",
    "handler.close()"
   ]
  },
  {
   "cell_type": "markdown",
   "id": "c4206573-0024-422f-ba65-92acd29acbf9",
   "metadata": {},
   "source": [
    "# 11. Create a Python program that logs an error message to the console and a file named \"errors.log\" if an exception occurs during the program's execution. The error message should include the exception type and a timestamp."
   ]
  },
  {
   "cell_type": "code",
   "execution_count": 18,
   "id": "092ec1e2-3176-4cab-8857-e55611553024",
   "metadata": {},
   "outputs": [
    {
     "name": "stdout",
     "output_type": "stream",
     "text": [
      "2023-06-28 22:43:03 - Exception: Traceback (most recent call last):\n",
      "  File \"/tmp/ipykernel_70/3983167849.py\", line 34, in <module>\n",
      "    result = number / 0\n",
      "ZeroDivisionError: division by zero\n",
      "\n"
     ]
    }
   ],
   "source": [
    "import os\n",
    "import logging\n",
    "import traceback\n",
    "import datetime\n",
    "\n",
    "def log_exception(exc_type, exc_value, exc_traceback):\n",
    "    timestamp = datetime.datetime.now().strftime(\"%Y-%m-%d %H:%M:%S\")\n",
    "    exception_info = \"\".join(traceback.format_exception(exc_type, exc_value, exc_traceback))\n",
    "    error_message = f\"{timestamp} - Exception: {exception_info}\"\n",
    "\n",
    "    # Print the error message to the console\n",
    "    print(error_message)\n",
    "\n",
    "    # Log the error message to a file\n",
    "    dir_path = r'/home/jovyan/work'\n",
    "    \n",
    "    log_file = \"errors.log\"\n",
    "    full_path = os.path.join(dir_path, log_file)\n",
    "    \n",
    "    logger = logging.getLogger()\n",
    "    logging.basicConfig(filename='errors.log', level=logging.ERROR)\n",
    "    logging.error(error_message)\n",
    "    \n",
    "    # Register the exception handler\n",
    "    handler = logging.FileHandler(full_path)\n",
    "    handler.setFormatter(logging.Formatter('%(asctime)s:%(levelname)s:%(message)s'))\n",
    "    \n",
    "    logger.addHandler(handler)\n",
    "    handler.close()\n",
    "\n",
    "# Divide a number by zero\n",
    "number = 42\n",
    "try:\n",
    "    result = number / 0\n",
    "except Exception as e:\n",
    "    log_exception(type(e), e, e.__traceback__)"
   ]
  }
 ],
 "metadata": {
  "kernelspec": {
   "display_name": "Python 3 (ipykernel)",
   "language": "python",
   "name": "python3"
  },
  "language_info": {
   "codemirror_mode": {
    "name": "ipython",
    "version": 3
   },
   "file_extension": ".py",
   "mimetype": "text/x-python",
   "name": "python",
   "nbconvert_exporter": "python",
   "pygments_lexer": "ipython3",
   "version": "3.10.6"
  }
 },
 "nbformat": 4,
 "nbformat_minor": 5
}
