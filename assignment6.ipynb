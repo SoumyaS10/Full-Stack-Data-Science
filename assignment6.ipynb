{
 "cells": [
  {
   "cell_type": "markdown",
   "id": "f88a3c42-cd5c-41ad-a0d0-5a9583b92405",
   "metadata": {},
   "source": [
    "1. What are keywords in python? Using the keyword library, print all the python keywords.\n",
    "\n",
    "-> Python keywords are reserved words that have a special meaning associated with them and can’t be used for anything but those specific purposes.\n",
    "   Each keyword is designed to achieve specific functionality.\n",
    "   Python keywords are case-sensitive."
   ]
  },
  {
   "cell_type": "code",
   "execution_count": 8,
   "id": "2901d5b2-eb93-4686-b6d6-e10585f749f6",
   "metadata": {},
   "outputs": [
    {
     "name": "stdout",
     "output_type": "stream",
     "text": [
      "['False', 'None', 'True', 'and', 'as', 'assert', 'async', 'await', 'break', 'class', 'continue', 'def', 'del', 'elif', 'else', 'except', 'finally', 'for', 'from', 'global', 'if', 'import', 'in', 'is', 'lambda', 'nonlocal', 'not', 'or', 'pass', 'raise', 'return', 'try', 'while', 'with', 'yield']\n"
     ]
    }
   ],
   "source": [
    "import keyword\n",
    "\n",
    "print(keyword.kwlist)"
   ]
  },
  {
   "cell_type": "markdown",
   "id": "93c6e527-4488-4727-8e4c-2626fc4fa368",
   "metadata": {},
   "source": [
    "2. What are the rules to create variables in python?\n",
    "\n",
    "-> Rules for Python variables:\n",
    "\n",
    "   A variable name must start with a letter or the underscore character\n",
    "   A variable name cannot start with a number\n",
    "   A variable name can only contain alpha-numeric characters and underscores (A-z, 0-9, and _ )\n",
    "   Variable names are case-sensitive\n",
    "\n",
    "3. What are the standards and conventions followed for the nomenclature of variables in python to improve code readability and maintainability?\n",
    "\n",
    "-> Variable names should be lowercase, with words separated by underscores as necessary to improve readability.\n",
    "\n",
    "4. What will happen if a keyword is used as a variable name?\n"
   ]
  },
  {
   "cell_type": "code",
   "execution_count": 9,
   "id": "fc2aed1d-3e02-4b93-bf1a-783357a12625",
   "metadata": {},
   "outputs": [
    {
     "ename": "SyntaxError",
     "evalue": "invalid syntax (2818660535.py, line 1)",
     "output_type": "error",
     "traceback": [
      "\u001b[0;36m  Cell \u001b[0;32mIn [9], line 1\u001b[0;36m\u001b[0m\n\u001b[0;31m    for = 20\u001b[0m\n\u001b[0m        ^\u001b[0m\n\u001b[0;31mSyntaxError\u001b[0m\u001b[0;31m:\u001b[0m invalid syntax\n"
     ]
    }
   ],
   "source": [
    "for = 20\n",
    "print(for)"
   ]
  },
  {
   "cell_type": "markdown",
   "id": "2a747a05-a508-467d-abec-8c77d2f55833",
   "metadata": {},
   "source": [
    "-> It will throw a Syntax Error\n",
    "\n",
    "5. For what purpose def keyword is used?\n",
    "\n",
    "-> Python def keyword is used to define a function, it is placed before a function name that is provided by the user to create a user-defined function.\n",
    "   \n",
    "   Use of def keyword:\n",
    "   In the case of classes, the def keyword is used for defining the methods of a class.\n",
    "   def keyword is also required to define the special member function of a class like __init__().\n",
    "\n",
    "6. What is the operation of this special character ‘\\’?\n",
    "\n",
    "-> Separates locations in a file or network path\n",
    "\n",
    "7. Give an example of the following conditions:\n",
    "    (i) Homogeneous list\n",
    "    (ii) Heterogeneous set\n",
    "    (iii) Homogeneous tuple\n",
    "\n",
    "-> Homogeneous list - [1, 2, 3, 4, 5]\n",
    "   Heterogeneous set - {1, 2, 'Hello', 4, 'Sam'}\n",
    "   Homogeneous tuple - (1, 2, 3, 4, 5)\n",
    "\n",
    "8. Explain the mutable and immutable data types with proper explanation & examples.\n",
    "\n",
    "-> The term \"mutable\" in Python refers to an object's capability to modify its values. These are frequently the things that hold a data collection.\n",
    "   Immutable refers to a state in which no change can occur over time.\n",
    "   A Python object is referred to as immutable if we cannot change its value over time.\n",
    "   The value of these Python objects is fixed once they are made.\n",
    "   \n",
    "   Python mutable data types:\n",
    "   \n",
    "   Lists\n",
    "   Dictionaries\n",
    "   Sets\n",
    "   User-Defined Classes\n",
    "   \n",
    "   Python immutable data types:\n",
    "   \n",
    "   Numbers (Integer, Float, Booleans)\n",
    "   Tuples\n",
    "   Strings\n",
    "   Frozen Sets\n"
   ]
  },
  {
   "cell_type": "code",
   "execution_count": null,
   "id": "fe266714-f7c5-45cb-a1d5-6e91e16193ad",
   "metadata": {},
   "outputs": [],
   "source": [
    "9. Write a code to create the given structure using only For loop.\n",
    "    *\n",
    "    ***\n",
    "    *****\n",
    "    *******\n",
    "    *********"
   ]
  },
  {
   "cell_type": "code",
   "execution_count": 10,
   "id": "65e31154-e068-4991-9e28-734a7dffd11f",
   "metadata": {},
   "outputs": [
    {
     "name": "stdout",
     "output_type": "stream",
     "text": [
      "*\n",
      "***\n",
      "*****\n",
      "*******\n",
      "*********\n"
     ]
    }
   ],
   "source": [
    "for i in range(1,10,2): #defining starting and ending number of '*' and the steps to increase the number of stars at each row \n",
    "    \n",
    "    print(i * '*')"
   ]
  },
  {
   "cell_type": "code",
   "execution_count": null,
   "id": "e9ad702e-babf-4ea6-a8c7-de1c1ef629f8",
   "metadata": {},
   "outputs": [],
   "source": [
    "10. Write a code to create the given structure using While loop.\n",
    "    |||||||||\n",
    "     |||||||\n",
    "      |||||\n",
    "       |||\n",
    "        |\n"
   ]
  },
  {
   "cell_type": "code",
   "execution_count": 16,
   "id": "0aa8e33c-29d7-48d6-af68-f6ce51746100",
   "metadata": {},
   "outputs": [
    {
     "name": "stdout",
     "output_type": "stream",
     "text": [
      "| | | | | | | | | \n",
      "  | | | | | | | \n",
      "    | | | | | \n",
      "      | | | \n",
      "        | \n"
     ]
    }
   ],
   "source": [
    "# As per the given pattern, assigning number of rows as 6 so that the starting number of bars '|' should be 9 and decrease gradually\n",
    "row = 6\n",
    "i = row\n",
    "\n",
    "while i > 1:\n",
    "    space = 0\n",
    "    \n",
    "    # Printing the amount of space required in each row\n",
    "    while space < row - i:\n",
    "        print(\"  \", end=\"\")\n",
    "        space += 1\n",
    "    \n",
    "    #printing the 1st half of the pyramid\n",
    "    j = i\n",
    "    while j < 2 * i - 1:\n",
    "        print(\"| \", end=\"\")\n",
    "        j += 1\n",
    "    \n",
    "    #printing the 2nd half of the pyramid\n",
    "    j = 1\n",
    "    while j < i - 1:\n",
    "        print(\"| \", end=\"\")\n",
    "        j += 1\n",
    "    \n",
    "    print()\n",
    "    i -= 1"
   ]
  }
 ],
 "metadata": {
  "kernelspec": {
   "display_name": "Python 3 (ipykernel)",
   "language": "python",
   "name": "python3"
  },
  "language_info": {
   "codemirror_mode": {
    "name": "ipython",
    "version": 3
   },
   "file_extension": ".py",
   "mimetype": "text/x-python",
   "name": "python",
   "nbconvert_exporter": "python",
   "pygments_lexer": "ipython3",
   "version": "3.10.6"
  }
 },
 "nbformat": 4,
 "nbformat_minor": 5
}
